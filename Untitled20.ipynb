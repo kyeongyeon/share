{
  "nbformat": 4,
  "nbformat_minor": 0,
  "metadata": {
    "colab": {
      "provenance": [],
      "authorship_tag": "ABX9TyOjfIaxTYkl9dx5HI7wpPOh",
      "include_colab_link": true
    },
    "kernelspec": {
      "name": "python3",
      "display_name": "Python 3"
    },
    "language_info": {
      "name": "python"
    }
  },
  "cells": [
    {
      "cell_type": "markdown",
      "metadata": {
        "id": "view-in-github",
        "colab_type": "text"
      },
      "source": [
        "<a href=\"https://colab.research.google.com/github/kyeongyeon/share/blob/main/Untitled20.ipynb\" target=\"_parent\"><img src=\"https://colab.research.google.com/assets/colab-badge.svg\" alt=\"Open In Colab\"/></a>"
      ]
    },
    {
      "cell_type": "code",
      "execution_count": 5,
      "metadata": {
        "colab": {
          "base_uri": "https://localhost:8080/"
        },
        "id": "a0W8HdihBZRO",
        "outputId": "d80b8aff-8b35-4af5-96f4-2fe6659f76d6"
      },
      "outputs": [
        {
          "output_type": "stream",
          "name": "stdout",
          "text": [
            "index [3 0 1 6 7 2 5 4]\n",
            "sorted x [1 3 5 6 6 7 8 9] [  2   1   5  10 100   6]\n",
            "search sorted [1 0 2 8 8 3]\n",
            "yindex [0 3 1 4 4 6]\n",
            "mask [ True False False  True  True False]\n",
            "[-- 3 1 -- -- 6]\n",
            "[-- 1 5 -- -- 6]\n"
          ]
        }
      ],
      "source": [
        "import numpy as np\n",
        "x = np.array([3,5,7,1,9,8,6,6])\n",
        "y = np.array([2,1,5,10,100,6])\n",
        "\n",
        "index = np.argsort(x) # return indices of sorted x\n",
        "print('index', index)\n",
        "sorted_x = x[index] # return sorted x\n",
        "print('sorted x', sorted_x, y)\n",
        "sorted_index = np.searchsorted(sorted_x, y)  # return indices of x\n",
        "print('search sorted', sorted_index)\n",
        "\n",
        "yindex = np.take(index, sorted_index, mode=\"clip\") # arrange 'index' element by 'sorted_index'\n",
        "print('yindex', yindex)\n",
        "mask = x[yindex] != y\n",
        "print('mask', mask)\n",
        "\n",
        "result = np.ma.array(yindex, mask=mask)\n",
        "print(result)\n",
        "print(np.ma.array(y, mask=mask))"
      ]
    },
    {
      "cell_type": "code",
      "source": [
        "th = np.random.uniform(1.0, 16.0, (60000,))\n",
        "th"
      ],
      "metadata": {
        "colab": {
          "base_uri": "https://localhost:8080/"
        },
        "id": "b2kB6dYVLB-k",
        "outputId": "61145c56-2771-4b9b-bbd1-ab9d5d85d05d"
      },
      "execution_count": 39,
      "outputs": [
        {
          "output_type": "execute_result",
          "data": {
            "text/plain": [
              "array([ 5.12065958,  6.29976238,  3.47583812, ...,  1.29082794,\n",
              "       13.49003674,  3.44620437])"
            ]
          },
          "metadata": {},
          "execution_count": 39
        }
      ]
    },
    {
      "cell_type": "code",
      "source": [
        "ch = np.round(np.linspace(0, 16, 200), 3)\n",
        "ch"
      ],
      "metadata": {
        "colab": {
          "base_uri": "https://localhost:8080/"
        },
        "id": "9QU2lLwbLa2N",
        "outputId": "3c979279-043d-44f1-d201-bac942cbea1d"
      },
      "execution_count": 36,
      "outputs": [
        {
          "output_type": "execute_result",
          "data": {
            "text/plain": [
              "array([ 0.   ,  0.08 ,  0.161,  0.241,  0.322,  0.402,  0.482,  0.563,\n",
              "        0.643,  0.724,  0.804,  0.884,  0.965,  1.045,  1.126,  1.206,\n",
              "        1.286,  1.367,  1.447,  1.528,  1.608,  1.688,  1.769,  1.849,\n",
              "        1.93 ,  2.01 ,  2.09 ,  2.171,  2.251,  2.332,  2.412,  2.492,\n",
              "        2.573,  2.653,  2.734,  2.814,  2.894,  2.975,  3.055,  3.136,\n",
              "        3.216,  3.296,  3.377,  3.457,  3.538,  3.618,  3.698,  3.779,\n",
              "        3.859,  3.94 ,  4.02 ,  4.101,  4.181,  4.261,  4.342,  4.422,\n",
              "        4.503,  4.583,  4.663,  4.744,  4.824,  4.905,  4.985,  5.065,\n",
              "        5.146,  5.226,  5.307,  5.387,  5.467,  5.548,  5.628,  5.709,\n",
              "        5.789,  5.869,  5.95 ,  6.03 ,  6.111,  6.191,  6.271,  6.352,\n",
              "        6.432,  6.513,  6.593,  6.673,  6.754,  6.834,  6.915,  6.995,\n",
              "        7.075,  7.156,  7.236,  7.317,  7.397,  7.477,  7.558,  7.638,\n",
              "        7.719,  7.799,  7.879,  7.96 ,  8.04 ,  8.121,  8.201,  8.281,\n",
              "        8.362,  8.442,  8.523,  8.603,  8.683,  8.764,  8.844,  8.925,\n",
              "        9.005,  9.085,  9.166,  9.246,  9.327,  9.407,  9.487,  9.568,\n",
              "        9.648,  9.729,  9.809,  9.889,  9.97 , 10.05 , 10.131, 10.211,\n",
              "       10.291, 10.372, 10.452, 10.533, 10.613, 10.693, 10.774, 10.854,\n",
              "       10.935, 11.015, 11.095, 11.176, 11.256, 11.337, 11.417, 11.497,\n",
              "       11.578, 11.658, 11.739, 11.819, 11.899, 11.98 , 12.06 , 12.141,\n",
              "       12.221, 12.302, 12.382, 12.462, 12.543, 12.623, 12.704, 12.784,\n",
              "       12.864, 12.945, 13.025, 13.106, 13.186, 13.266, 13.347, 13.427,\n",
              "       13.508, 13.588, 13.668, 13.749, 13.829, 13.91 , 13.99 , 14.07 ,\n",
              "       14.151, 14.231, 14.312, 14.392, 14.472, 14.553, 14.633, 14.714,\n",
              "       14.794, 14.874, 14.955, 15.035, 15.116, 15.196, 15.276, 15.357,\n",
              "       15.437, 15.518, 15.598, 15.678, 15.759, 15.839, 15.92 , 16.   ])"
            ]
          },
          "metadata": {},
          "execution_count": 36
        }
      ]
    },
    {
      "cell_type": "code",
      "source": [
        "reth.shape"
      ],
      "metadata": {
        "colab": {
          "base_uri": "https://localhost:8080/"
        },
        "id": "ZzKeDO6KUsn9",
        "outputId": "9a4578f5-6f07-489c-e55a-129e8845da48"
      },
      "execution_count": 52,
      "outputs": [
        {
          "output_type": "execute_result",
          "data": {
            "text/plain": [
              "(60000,)"
            ]
          },
          "metadata": {},
          "execution_count": 52
        }
      ]
    },
    {
      "cell_type": "code",
      "source": [
        "reth = ch[np.take(np.arange(len(ch)), np.searchsorted(ch, th), mode='clip')]\n",
        "reth"
      ],
      "metadata": {
        "colab": {
          "base_uri": "https://localhost:8080/"
        },
        "id": "ORp5cM_kRblU",
        "outputId": "a51ca8ef-76c8-44d5-925f-e2648f3fbab8"
      },
      "execution_count": 51,
      "outputs": [
        {
          "output_type": "execute_result",
          "data": {
            "text/plain": [
              "array([ 5.146,  6.352,  3.538, ...,  1.367, 13.508,  3.457])"
            ]
          },
          "metadata": {},
          "execution_count": 51
        }
      ]
    },
    {
      "cell_type": "code",
      "source": [
        "np.unique(re1, return_counts=True)"
      ],
      "metadata": {
        "colab": {
          "base_uri": "https://localhost:8080/"
        },
        "id": "XkjrLk0wR2l-",
        "outputId": "0ad64d58-d232-4c67-81ae-7a45254841a9"
      },
      "execution_count": 45,
      "outputs": [
        {
          "output_type": "execute_result",
          "data": {
            "text/plain": [
              "(array([ True]), array([60000]))"
            ]
          },
          "metadata": {},
          "execution_count": 45
        }
      ]
    },
    {
      "cell_type": "code",
      "source": [
        "'''\n",
        "sort x\n",
        "y 변수가 x 안에서 속하는 위치\n",
        "sorted index를 searchsort 인덱스 순으로 재정렬"
      ],
      "metadata": {
        "id": "AY9XZClaGgSs"
      },
      "execution_count": null,
      "outputs": []
    },
    {
      "cell_type": "code",
      "source": [
        "np.searchsorted(ch, th), np.take(np.arange(len(ch)), np.searchsorted(ch, th), mode='clip'), ch[np.take(np.arange(len(ch)), np.searchsorted(ch, th), mode='clip')] != th, np.ma.masked_array(th, (ch[np.take(np.arange(len(ch)), np.searchsorted(ch, th), mode='clip')] != th))"
      ],
      "metadata": {
        "colab": {
          "base_uri": "https://localhost:8080/"
        },
        "id": "49V8fsQdIprk",
        "outputId": "100b67f3-ed30-4f07-b3d7-8f2f5108f448"
      },
      "execution_count": 40,
      "outputs": [
        {
          "output_type": "execute_result",
          "data": {
            "text/plain": [
              "(array([ 64,  79,  44, ...,  17, 168,  43]),\n",
              " array([ 64,  79,  44, ...,  17, 168,  43]),\n",
              " array([ True,  True,  True, ...,  True,  True,  True]),\n",
              " masked_array(data=[--, --, --, ..., --, --, --],\n",
              "              mask=[ True,  True,  True, ...,  True,  True,  True],\n",
              "        fill_value=1e+20,\n",
              "             dtype=float64))"
            ]
          },
          "metadata": {},
          "execution_count": 40
        }
      ]
    },
    {
      "cell_type": "code",
      "source": [
        "ch = np.arange(100)\n",
        "th = np.arange(0, 100, 3)*0.5\n",
        "ch, th"
      ],
      "metadata": {
        "colab": {
          "base_uri": "https://localhost:8080/"
        },
        "id": "gDuat4fFG-KU",
        "outputId": "3e9720de-ff68-4773-a721-e665c4d8daf8"
      },
      "execution_count": 19,
      "outputs": [
        {
          "output_type": "execute_result",
          "data": {
            "text/plain": [
              "(array([ 0,  1,  2,  3,  4,  5,  6,  7,  8,  9, 10, 11, 12, 13, 14, 15, 16,\n",
              "        17, 18, 19, 20, 21, 22, 23, 24, 25, 26, 27, 28, 29, 30, 31, 32, 33,\n",
              "        34, 35, 36, 37, 38, 39, 40, 41, 42, 43, 44, 45, 46, 47, 48, 49, 50,\n",
              "        51, 52, 53, 54, 55, 56, 57, 58, 59, 60, 61, 62, 63, 64, 65, 66, 67,\n",
              "        68, 69, 70, 71, 72, 73, 74, 75, 76, 77, 78, 79, 80, 81, 82, 83, 84,\n",
              "        85, 86, 87, 88, 89, 90, 91, 92, 93, 94, 95, 96, 97, 98, 99]),\n",
              " array([ 0. ,  1.5,  3. ,  4.5,  6. ,  7.5,  9. , 10.5, 12. , 13.5, 15. ,\n",
              "        16.5, 18. , 19.5, 21. , 22.5, 24. , 25.5, 27. , 28.5, 30. , 31.5,\n",
              "        33. , 34.5, 36. , 37.5, 39. , 40.5, 42. , 43.5, 45. , 46.5, 48. ,\n",
              "        49.5]))"
            ]
          },
          "metadata": {},
          "execution_count": 19
        }
      ]
    },
    {
      "cell_type": "code",
      "source": [
        "sorsi = np.searchsorted(th, ch)\n",
        "tk = np.take(np.arange(len(ch)), sorsi, mode='clip')\n",
        "tk"
      ],
      "metadata": {
        "colab": {
          "base_uri": "https://localhost:8080/"
        },
        "id": "_pQn2qzmHf_U",
        "outputId": "1c956e2a-368a-4e01-b5bb-a000eaeeb15e"
      },
      "execution_count": 16,
      "outputs": [
        {
          "output_type": "execute_result",
          "data": {
            "text/plain": [
              "array([ 0,  1,  1,  1,  2,  2,  2,  3,  3,  3,  4,  4,  4,  5,  5,  5,  6,\n",
              "        6,  6,  7,  7,  7,  8,  8,  8,  9,  9,  9, 10, 10, 10, 11, 11, 11,\n",
              "       12, 12, 12, 13, 13, 13, 14, 14, 14, 15, 15, 15, 16, 16, 16, 17, 17,\n",
              "       17, 18, 18, 18, 19, 19, 19, 20, 20, 20, 21, 21, 21, 22, 22, 22, 23,\n",
              "       23, 23, 24, 24, 24, 25, 25, 25, 26, 26, 26, 27, 27, 27, 28, 28, 28,\n",
              "       29, 29, 29, 30, 30, 30, 31, 31, 31, 32, 32, 32, 33, 33, 33])"
            ]
          },
          "metadata": {},
          "execution_count": 16
        }
      ]
    },
    {
      "cell_type": "code",
      "source": [
        "yindex, x[yindex]"
      ],
      "metadata": {
        "colab": {
          "base_uri": "https://localhost:8080/"
        },
        "id": "T0VKLEr4FYsv",
        "outputId": "c3a30929-5a5d-409f-e00c-c136c5f73afd"
      },
      "execution_count": 7,
      "outputs": [
        {
          "output_type": "execute_result",
          "data": {
            "text/plain": [
              "(array([0, 3, 1, 4, 4, 6]), array([3, 1, 5, 9, 9, 6]))"
            ]
          },
          "metadata": {},
          "execution_count": 7
        }
      ]
    },
    {
      "cell_type": "code",
      "source": [
        "a = np.arange(10)\n",
        "b = np.arange(10)\n",
        "a[[1,2,3]]"
      ],
      "metadata": {
        "colab": {
          "base_uri": "https://localhost:8080/"
        },
        "id": "cSZbCNOtGEwU",
        "outputId": "5a64a98c-6b31-4773-c835-6b07e5360362"
      },
      "execution_count": 10,
      "outputs": [
        {
          "output_type": "execute_result",
          "data": {
            "text/plain": [
              "array([1, 2, 3])"
            ]
          },
          "metadata": {},
          "execution_count": 10
        }
      ]
    }
  ]
}